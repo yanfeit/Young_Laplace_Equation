{
 "cells": [
  {
   "cell_type": "markdown",
   "metadata": {},
   "source": [
    "# Run Scripts"
   ]
  },
  {
   "cell_type": "markdown",
   "metadata": {},
   "source": [
    "步骤\n",
    "1. 利用janus.py产生理论数据，实验前明确需要粒子结构、接触角、距离\n",
    "2. 利用forceAnalysisTool.py产生模拟实验的力学数据\n",
    "3. 利用forceCompareTool.py对比模拟实验和理论的差异\n",
    "4. 利用profileAnalysisTool.py产生模拟实验液面形态数据，需要输入距离。"
   ]
  },
  {
   "cell_type": "code",
   "execution_count": 22,
   "metadata": {},
   "outputs": [
    {
     "ename": "SystemExit",
     "evalue": "Can't form a menisci",
     "output_type": "error",
     "traceback": [
      "An exception has occurred, use %tb to see the full traceback.\n",
      "\u001b[1;31mSystemExit\u001b[0m\u001b[1;31m:\u001b[0m Can't form a menisci\n"
     ]
    }
   ],
   "source": [
    "%run janus.py -ofile theory_EPS04_D29.h5 -phobic 112.06 -philic 51.83 -height 50.9 -L 49.3 -R 10.5 -D 63.0"
   ]
  },
  {
   "cell_type": "code",
   "execution_count": null,
   "metadata": {},
   "outputs": [],
   "source": [
    "%run profileAnalysisTool.py -idump ./pos14/dump_janus_measure.1 -ofile simu_D29.h5"
   ]
  },
  {
   "cell_type": "code",
   "execution_count": 16,
   "metadata": {},
   "outputs": [
    {
     "name": "stdout",
     "output_type": "stream",
     "text": [
      "Input Simulational HDF5 datasets : simu_D29.h5\n",
      "Input Theoretical HDF5 datasets : theory_EPS04_D29.h5\n",
      "Output density profile comparison figure : profile_D29.pdf\n"
     ]
    }
   ],
   "source": [
    "%run profileCompareTool.py -sln simu_D29.h5 -thy theory_EPS04_D29.h5 -ofile profile_D29.pdf -ylimn 2\n"
   ]
  },
  {
   "cell_type": "markdown",
   "metadata": {},
   "source": [
    "要利用一个自动化的脚本完成分析的服务。"
   ]
  },
  {
   "cell_type": "code",
   "execution_count": 2,
   "metadata": {},
   "outputs": [],
   "source": [
    "import subprocess as sp"
   ]
  },
  {
   "cell_type": "code",
   "execution_count": 14,
   "metadata": {},
   "outputs": [
    {
     "name": "stdout",
     "output_type": "stream",
     "text": [
      "Iteration 0\n",
      "\n",
      "proc1 Success!\n",
      "proc2 Success!\n",
      "Iteration 1\n",
      "\n",
      "proc1 Success!\n",
      "proc2 Success!\n",
      "Iteration 2\n",
      "\n",
      "proc1 Success!\n",
      "proc2 Success!\n",
      "Iteration 3\n",
      "\n",
      "proc1 Success!\n",
      "proc2 Success!\n",
      "Iteration 4\n",
      "\n",
      "proc1 Success!\n",
      "proc2 Success!\n",
      "Iteration 5\n",
      "\n",
      "proc1 Success!\n",
      "proc2 Success!\n",
      "Iteration 6\n",
      "\n",
      "proc1 Success!\n",
      "proc2 Success!\n",
      "Iteration 7\n",
      "\n",
      "proc1 Success!\n",
      "proc2 Success!\n",
      "Iteration 8\n",
      "\n",
      "proc1 Success!\n",
      "proc2 Success!\n",
      "Iteration 9\n",
      "\n",
      "proc1 Success!\n",
      "proc2 Success!\n",
      "Iteration 10\n",
      "\n",
      "proc1 Success!\n",
      "proc2 Success!\n",
      "Iteration 11\n",
      "\n",
      "proc1 Success!\n",
      "proc2 Success!\n",
      "Iteration 12\n",
      "\n",
      "proc1 Success!\n",
      "proc2 Success!\n",
      "Iteration 13\n",
      "\n",
      "proc1 Success!\n",
      "proc2 Success!\n",
      "Iteration 14\n",
      "\n",
      "proc1 Success!\n",
      "proc2 Success!\n",
      "Iteration 15\n",
      "\n",
      "proc1 Success!\n",
      "proc2 Success!\n",
      "Iteration 16\n",
      "\n",
      "proc1 Fail!\n",
      "proc2 Success!\n",
      "Iteration 17\n",
      "\n",
      "proc1 Fail!\n",
      "proc2 Success!\n",
      "Iteration 18\n",
      "\n",
      "proc1 Fail!\n",
      "proc2 Success!\n",
      "Iteration 19\n",
      "\n",
      "proc1 Fail!\n",
      "proc2 Success!\n",
      "Iteration 20\n",
      "\n",
      "proc1 Fail!\n",
      "proc2 Success!\n",
      "Iteration 21\n",
      "\n",
      "proc1 Fail!\n",
      "proc2 Success!\n",
      "Iteration 22\n",
      "\n",
      "proc1 Fail!\n",
      "proc2 Success!\n"
     ]
    }
   ],
   "source": [
    "bh = 15.0\n",
    "\n",
    "for it, pos in enumerate(range(16, 62, 2)):\n",
    "\n",
    "    print(f\"Iteration {it}\\n\")\n",
    "    D = bh + pos\n",
    "\n",
    "    proc1 = sp.run([\"python\", \"janus.py\", \"-ofile\", \"theory_EPS04_D{:.0f}.h5\".format(D), \"-phobic\", \\\n",
    "    \"112.06\", \"-philic\", \"51.83\", \"-height\", \"50.9\", \\\n",
    "        \"-L\", \"49.3\", \"-R\", \"10.5\", \"-D\", \"{}\".format(D)])\n",
    "\n",
    "    if proc1.returncode == 0:\n",
    "        print(\"proc1 Success!\")\n",
    "    else:\n",
    "        print(\"proc1 Fail!\")\n",
    "\n",
    "    proc2 = sp.run([\"python\", \"profileAnalysisTool.py\", \"-idump\", \\\n",
    "    \"./pos{:.0f}/dump_janus_measure.1\".format(pos), \"-ofile\",\\\n",
    "     \"simu_D{:.0f}.h5\".format(D)])\n",
    "\n",
    "    if proc2.returncode == 0:\n",
    "        print(\"proc2 Success!\")\n",
    "    else:\n",
    "        print(\"proc2 Fail!\")\n",
    "\n",
    "    proc3 = sp.run([\"python\", \"profileCompareTool.py\", \"-sln\", \"simu_D{:.0f}.h5\".format(D),\\\n",
    "     \"-thy\", \"theory_EPS04_D{:.0f}.h5\".format(D), \"-ofile\", \"profile_D{:.0f}.pdf\".format(D), \"-ylimn\", \"2\"], \\\n",
    "        capture_output=True)\n",
    "\n",
    "    if proc3.returncode == 0:\n",
    "        print(\"proc3 Success!\")\n",
    "    else:\n",
    "        print(\"proc3 Fail!\")\n",
    "\n"
   ]
  },
  {
   "cell_type": "code",
   "execution_count": 24,
   "metadata": {},
   "outputs": [
    {
     "name": "stdout",
     "output_type": "stream",
     "text": [
      "Iteration 0\n",
      "\n",
      "proc3 Success!\n",
      "Iteration 1\n",
      "\n",
      "proc3 Success!\n",
      "Iteration 2\n",
      "\n",
      "proc3 Success!\n",
      "Iteration 3\n",
      "\n",
      "proc3 Success!\n",
      "Iteration 4\n",
      "\n",
      "proc3 Fail!\n",
      "Iteration 5\n",
      "\n",
      "proc3 Fail!\n",
      "Iteration 6\n",
      "\n",
      "proc3 Fail!\n",
      "Iteration 7\n",
      "\n",
      "proc3 Fail!\n",
      "Iteration 8\n",
      "\n",
      "proc3 Fail!\n",
      "Iteration 9\n",
      "\n",
      "proc3 Fail!\n",
      "Iteration 10\n",
      "\n",
      "proc3 Fail!\n"
     ]
    }
   ],
   "source": [
    "bh = 15.0\n",
    "\n",
    "for it, pos in enumerate(range(40, 62, 2)):\n",
    "\n",
    "    print(f\"Iteration {it}\\n\")\n",
    "    D = bh + pos\n",
    "\n",
    "    proc3 = sp.run([\"python\", \"profileCompareTool.py\", \"-sln\", \"simu_D{:.0f}.h5\".format(D),\\\n",
    "     \"-thy\", \"theory_EPS04_D{:.0f}.h5\".format(D), \"-ofile\", \"profile_D{:.0f}.pdf\".format(D), \"-ylimn\", \"4\"], \\\n",
    "        capture_output=True)\n",
    "\n",
    "    if proc3.returncode == 0:\n",
    "        print(\"proc3 Success!\")\n",
    "    else:\n",
    "        print(\"proc3 Fail!\")"
   ]
  },
  {
   "cell_type": "code",
   "execution_count": 7,
   "metadata": {},
   "outputs": [],
   "source": [
    "pos = list(range(14, 62, 2))"
   ]
  },
  {
   "cell_type": "code",
   "execution_count": 13,
   "metadata": {},
   "outputs": [
    {
     "data": {
      "text/plain": [
       "'18'"
      ]
     },
     "execution_count": 13,
     "metadata": {},
     "output_type": "execute_result"
    }
   ],
   "source": [
    "\"{:.0f}\".format(pos)"
   ]
  },
  {
   "cell_type": "code",
   "execution_count": 20,
   "metadata": {},
   "outputs": [
    {
     "name": "stdout",
     "output_type": "stream",
     "text": [
      "b'usage: profileCompareTool.py [-h] [-sln SLN] [-thy THY] [-ofile OFILE]\\r\\n                             [-ylimn YLIMN]\\r\\nprofileCompareTool.py: error: unrecognized arguments: -ylimn2\\r\\n'\n"
     ]
    }
   ],
   "source": [
    "print(proc3.stderr)"
   ]
  },
  {
   "cell_type": "code",
   "execution_count": null,
   "metadata": {},
   "outputs": [],
   "source": []
  }
 ],
 "metadata": {
  "kernelspec": {
   "display_name": "Python 3.9.12 ('base')",
   "language": "python",
   "name": "python3"
  },
  "language_info": {
   "codemirror_mode": {
    "name": "ipython",
    "version": 3
   },
   "file_extension": ".py",
   "mimetype": "text/x-python",
   "name": "python",
   "nbconvert_exporter": "python",
   "pygments_lexer": "ipython3",
   "version": "3.9.12"
  },
  "orig_nbformat": 4,
  "vscode": {
   "interpreter": {
    "hash": "ad2bdc8ecc057115af97d19610ffacc2b4e99fae6737bb82f5d7fb13d2f2c186"
   }
  }
 },
 "nbformat": 4,
 "nbformat_minor": 2
}
